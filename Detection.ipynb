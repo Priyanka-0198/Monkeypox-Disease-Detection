{
 "cells": [
  {
   "cell_type": "markdown",
   "metadata": {
    "id": "1_d-G2QDtfhV"
   },
   "source": [
    "# **YoloV5**"
   ]
  },
  {
   "cell_type": "code",
   "execution_count": 3,
   "metadata": {
    "colab": {
     "base_uri": "https://localhost:8080/"
    },
    "executionInfo": {
     "elapsed": 23844,
     "status": "ok",
     "timestamp": 1702021433143,
     "user": {
      "displayName": "TruProjects yolo",
      "userId": "18414174829652366032"
     },
     "user_tz": -330
    },
    "id": "u_MDBraPB1qY",
    "outputId": "2d2a475d-3367-478c-a0f2-6cff494e5913"
   },
   "outputs": [],
   "source": [
    "#from google.colab import drive\n",
    "#drive.mount('/content/drive')"
   ]
  },
  {
   "cell_type": "code",
   "execution_count": 3,
   "metadata": {
    "executionInfo": {
     "elapsed": 3969,
     "status": "ok",
     "timestamp": 1702021452777,
     "user": {
      "displayName": "TruProjects yolo",
      "userId": "18414174829652366032"
     },
     "user_tz": -330
    },
    "id": "aZ0F-ruowDYn"
   },
   "outputs": [],
   "source": [
    "import torch\n",
    "from IPython.display import Image\n",
    "import shutil\n",
    "import os\n",
    "from random import choice"
   ]
  },
  {
   "cell_type": "code",
   "execution_count": 4,
   "metadata": {
    "colab": {
     "base_uri": "https://localhost:8080/"
    },
    "executionInfo": {
     "elapsed": 4434,
     "status": "ok",
     "timestamp": 1701689259251,
     "user": {
      "displayName": "TruProjects yolo",
      "userId": "18414174829652366032"
     },
     "user_tz": -330
    },
    "id": "8elCCNWnwEBn",
    "outputId": "d325407a-c2f5-492d-dc26-f83b1bb7a156"
   },
   "outputs": [
    {
     "name": "stderr",
     "output_type": "stream",
     "text": [
      "fatal: destination path 'yolov5' already exists and is not an empty directory.\n"
     ]
    }
   ],
   "source": [
    "!git clone https://github.com/ultralytics/yolov5"
   ]
  },
  {
   "cell_type": "code",
   "execution_count": 5,
   "metadata": {
    "colab": {
     "base_uri": "https://localhost:8080/"
    },
    "executionInfo": {
     "elapsed": 355,
     "status": "ok",
     "timestamp": 1701689263205,
     "user": {
      "displayName": "TruProjects yolo",
      "userId": "18414174829652366032"
     },
     "user_tz": -330
    },
    "id": "m4eq7M4QwGYx",
    "outputId": "a22afb99-7ab3-43f7-d6ef-f07935490d2a"
   },
   "outputs": [
    {
     "name": "stdout",
     "output_type": "stream",
     "text": [
      "[WinError 3] The system cannot find the path specified: '/content/yolov5/'\n",
      "C:\\Users\\Priyanka Princella\\Desktop\\code_folder\\detection\n"
     ]
    }
   ],
   "source": [
    "%cd /content/yolov5/"
   ]
  },
  {
   "cell_type": "code",
   "execution_count": 6,
   "metadata": {
    "colab": {
     "base_uri": "https://localhost:8080/",
     "height": 1000
    },
    "executionInfo": {
     "elapsed": 11053,
     "status": "ok",
     "timestamp": 1701689278813,
     "user": {
      "displayName": "TruProjects yolo",
      "userId": "18414174829652366032"
     },
     "user_tz": -330
    },
    "id": "jZivwxlnwH8V",
    "outputId": "ba22e8fe-6806-459d-9a5f-5a69fbe8de20"
   },
   "outputs": [
    {
     "name": "stdout",
     "output_type": "stream",
     "text": [
      "Defaulting to user installation because normal site-packages is not writeable\n"
     ]
    },
    {
     "name": "stderr",
     "output_type": "stream",
     "text": [
      "ERROR: Could not open requirements file: [Errno 2] No such file or directory: 'requirements.txt'\n"
     ]
    }
   ],
   "source": [
    "!pip install -r requirements.txt"
   ]
  },
  {
   "cell_type": "code",
   "execution_count": 7,
   "metadata": {
    "colab": {
     "base_uri": "https://localhost:8080/"
    },
    "executionInfo": {
     "elapsed": 107318,
     "status": "ok",
     "timestamp": 1701689424259,
     "user": {
      "displayName": "TruProjects yolo",
      "userId": "18414174829652366032"
     },
     "user_tz": -330
    },
    "id": "L4eVoBeTkSuJ",
    "outputId": "641462f0-a97f-4d8d-aa6e-2807abe09cea"
   },
   "outputs": [
    {
     "name": "stderr",
     "output_type": "stream",
     "text": [
      "unzip:  cannot find or open /content/drive/MyDrive/DL-Monkeypoxdetection/Monkeyfoxdataset.zip, /content/drive/MyDrive/DL-Monkeypoxdetection/Monkeyfoxdataset.zip.zip or /content/drive/MyDrive/DL-Monkeypoxdetection/Monkeyfoxdataset.zip.ZIP.\n"
     ]
    }
   ],
   "source": [
    "!unzip \"/content/drive/MyDrive/DL-Monkeypoxdetection/Monkeyfoxdataset.zip\" -d \"/content/drive/MyDrive/DL-Monkeypoxdetection/dataset\""
   ]
  },
  {
   "cell_type": "code",
   "execution_count": 8,
   "metadata": {
    "colab": {
     "base_uri": "https://localhost:8080/"
    },
    "executionInfo": {
     "elapsed": 4,
     "status": "ok",
     "timestamp": 1701689801328,
     "user": {
      "displayName": "TruProjects yolo",
      "userId": "18414174829652366032"
     },
     "user_tz": -330
    },
    "id": "nOQr2cnkwT8R",
    "outputId": "dd123e2b-ab8e-47fd-e212-cc417a4986a0"
   },
   "outputs": [
    {
     "ename": "FileNotFoundError",
     "evalue": "[Errno 2] No such file or directory: '/content/drive/MyDrive/DL-Monkeypoxdetection/dataset/yolov5/data.yaml'",
     "output_type": "error",
     "traceback": [
      "\u001b[1;31m---------------------------------------------------------------------------\u001b[0m",
      "\u001b[1;31mFileNotFoundError\u001b[0m                         Traceback (most recent call last)",
      "Cell \u001b[1;32mIn[8], line 1\u001b[0m\n\u001b[1;32m----> 1\u001b[0m \u001b[38;5;28;01mwith\u001b[39;00m \u001b[38;5;28;43mopen\u001b[39;49m\u001b[43m(\u001b[49m\u001b[38;5;124;43mr\u001b[39;49m\u001b[38;5;124;43m'\u001b[39;49m\u001b[38;5;124;43m/content/drive/MyDrive/DL-Monkeypoxdetection/dataset/yolov5/data.yaml\u001b[39;49m\u001b[38;5;124;43m'\u001b[39;49m\u001b[43m,\u001b[49m\u001b[43m \u001b[49m\u001b[38;5;124;43m'\u001b[39;49m\u001b[38;5;124;43mr\u001b[39;49m\u001b[38;5;124;43m'\u001b[39;49m\u001b[43m)\u001b[49m \u001b[38;5;28;01mas\u001b[39;00m file:\n\u001b[0;32m      2\u001b[0m     lines \u001b[38;5;241m=\u001b[39m file\u001b[38;5;241m.\u001b[39mreadlines()\n\u001b[0;32m      3\u001b[0m     \u001b[38;5;28mprint\u001b[39m(lines)\n",
      "File \u001b[1;32mC:\\ProgramData\\anaconda3\\lib\\site-packages\\IPython\\core\\interactiveshell.py:282\u001b[0m, in \u001b[0;36m_modified_open\u001b[1;34m(file, *args, **kwargs)\u001b[0m\n\u001b[0;32m    275\u001b[0m \u001b[38;5;28;01mif\u001b[39;00m file \u001b[38;5;129;01min\u001b[39;00m {\u001b[38;5;241m0\u001b[39m, \u001b[38;5;241m1\u001b[39m, \u001b[38;5;241m2\u001b[39m}:\n\u001b[0;32m    276\u001b[0m     \u001b[38;5;28;01mraise\u001b[39;00m \u001b[38;5;167;01mValueError\u001b[39;00m(\n\u001b[0;32m    277\u001b[0m         \u001b[38;5;124mf\u001b[39m\u001b[38;5;124m\"\u001b[39m\u001b[38;5;124mIPython won\u001b[39m\u001b[38;5;124m'\u001b[39m\u001b[38;5;124mt let you open fd=\u001b[39m\u001b[38;5;132;01m{\u001b[39;00mfile\u001b[38;5;132;01m}\u001b[39;00m\u001b[38;5;124m by default \u001b[39m\u001b[38;5;124m\"\u001b[39m\n\u001b[0;32m    278\u001b[0m         \u001b[38;5;124m\"\u001b[39m\u001b[38;5;124mas it is likely to crash IPython. If you know what you are doing, \u001b[39m\u001b[38;5;124m\"\u001b[39m\n\u001b[0;32m    279\u001b[0m         \u001b[38;5;124m\"\u001b[39m\u001b[38;5;124myou can use builtins\u001b[39m\u001b[38;5;124m'\u001b[39m\u001b[38;5;124m open.\u001b[39m\u001b[38;5;124m\"\u001b[39m\n\u001b[0;32m    280\u001b[0m     )\n\u001b[1;32m--> 282\u001b[0m \u001b[38;5;28;01mreturn\u001b[39;00m io_open(file, \u001b[38;5;241m*\u001b[39margs, \u001b[38;5;241m*\u001b[39m\u001b[38;5;241m*\u001b[39mkwargs)\n",
      "\u001b[1;31mFileNotFoundError\u001b[0m: [Errno 2] No such file or directory: '/content/drive/MyDrive/DL-Monkeypoxdetection/dataset/yolov5/data.yaml'"
     ]
    }
   ],
   "source": [
    "with open(r'/content/drive/MyDrive/DL-Monkeypoxdetection/dataset/yolov5/data.yaml', 'r') as file:\n",
    "    lines = file.readlines()\n",
    "    print(lines)"
   ]
  },
  {
   "cell_type": "code",
   "execution_count": 9,
   "metadata": {
    "colab": {
     "base_uri": "https://localhost:8080/"
    },
    "executionInfo": {
     "elapsed": 506103,
     "status": "ok",
     "timestamp": 1701690321268,
     "user": {
      "displayName": "TruProjects yolo",
      "userId": "18414174829652366032"
     },
     "user_tz": -330
    },
    "id": "Tdw93VBLDgic",
    "outputId": "612bce44-898d-48c0-e7b2-43eb875d735d"
   },
   "outputs": [
    {
     "name": "stderr",
     "output_type": "stream",
     "text": [
      "'wandb' is not recognized as an internal or external command,\n",
      "operable program or batch file.\n",
      "python: can't open file 'C:\\\\Users\\\\Priyanka Princella\\\\Desktop\\\\code_folder\\\\detection\\\\train.py': [Errno 2] No such file or directory\n"
     ]
    }
   ],
   "source": [
    "!wandb disabled\n",
    "!python train.py --img 415 --batch 16 --epochs 30 --data /content/drive/MyDrive/DL-Monkeypoxdetection/dataset/yolov5/data.yaml --weights yolov5s.pt --cache --workers 2"
   ]
  },
  {
   "cell_type": "code",
   "execution_count": 10,
   "metadata": {
    "executionInfo": {
     "elapsed": 482,
     "status": "ok",
     "timestamp": 1702021465893,
     "user": {
      "displayName": "TruProjects yolo",
      "userId": "18414174829652366032"
     },
     "user_tz": -330
    },
    "id": "tvQ8TRVqVVkJ"
   },
   "outputs": [],
   "source": [
    "p = 86.5\n",
    "r = 93.6\n",
    "mAP50 = 95.9"
   ]
  },
  {
   "cell_type": "markdown",
   "metadata": {
    "id": "Qc1K1WgI0tAH"
   },
   "source": [
    "**YoloV6**"
   ]
  },
  {
   "cell_type": "code",
   "execution_count": 11,
   "metadata": {
    "colab": {
     "base_uri": "https://localhost:8080/"
    },
    "executionInfo": {
     "elapsed": 357,
     "status": "ok",
     "timestamp": 1701690457113,
     "user": {
      "displayName": "TruProjects yolo",
      "userId": "18414174829652366032"
     },
     "user_tz": -330
    },
    "id": "gTrGpeCjoYo5",
    "outputId": "4496490d-17be-46b1-a275-7d52cb80b094"
   },
   "outputs": [
    {
     "name": "stdout",
     "output_type": "stream",
     "text": [
      "C:\\Users\\Priyanka Princella\\Desktop\\code_folder\n"
     ]
    }
   ],
   "source": [
    "%cd .."
   ]
  },
  {
   "cell_type": "code",
   "execution_count": 12,
   "metadata": {
    "colab": {
     "base_uri": "https://localhost:8080/"
    },
    "executionInfo": {
     "elapsed": 6249,
     "status": "ok",
     "timestamp": 1701690465854,
     "user": {
      "displayName": "TruProjects yolo",
      "userId": "18414174829652366032"
     },
     "user_tz": -330
    },
    "id": "9NXBWse7-d2A",
    "outputId": "8f2fd4ba-af41-4e53-ff4c-0ceba3728769"
   },
   "outputs": [
    {
     "name": "stderr",
     "output_type": "stream",
     "text": [
      "fatal: destination path 'YOLOv6' already exists and is not an empty directory.\n"
     ]
    }
   ],
   "source": [
    "!git clone https://github.com/meituan/YOLOv6.git"
   ]
  },
  {
   "cell_type": "code",
   "execution_count": 13,
   "metadata": {
    "colab": {
     "base_uri": "https://localhost:8080/"
    },
    "executionInfo": {
     "elapsed": 508,
     "status": "ok",
     "timestamp": 1701690475638,
     "user": {
      "displayName": "TruProjects yolo",
      "userId": "18414174829652366032"
     },
     "user_tz": -330
    },
    "id": "xJFPbyUV_B-2",
    "outputId": "88dc4c9f-90e5-4a59-c363-d1f1575dce5a"
   },
   "outputs": [
    {
     "name": "stdout",
     "output_type": "stream",
     "text": [
      "[WinError 3] The system cannot find the path specified: '/content/YOLOv6'\n",
      "C:\\Users\\Priyanka Princella\\Desktop\\code_folder\n"
     ]
    }
   ],
   "source": [
    "%cd /content/YOLOv6"
   ]
  },
  {
   "cell_type": "code",
   "execution_count": 14,
   "metadata": {
    "colab": {
     "base_uri": "https://localhost:8080/"
    },
    "executionInfo": {
     "elapsed": 17646,
     "status": "ok",
     "timestamp": 1701690496890,
     "user": {
      "displayName": "TruProjects yolo",
      "userId": "18414174829652366032"
     },
     "user_tz": -330
    },
    "id": "3PZ_1KFA_Rjm",
    "outputId": "fd9138be-e305-4c1e-8caf-68dea35790bd"
   },
   "outputs": [
    {
     "name": "stdout",
     "output_type": "stream",
     "text": [
      "Defaulting to user installation because normal site-packages is not writeable\n"
     ]
    },
    {
     "name": "stderr",
     "output_type": "stream",
     "text": [
      "ERROR: Could not open requirements file: [Errno 2] No such file or directory: 'requirements.txt'\n"
     ]
    }
   ],
   "source": [
    "!pip install -r requirements.txt"
   ]
  },
  {
   "cell_type": "code",
   "execution_count": 15,
   "metadata": {
    "colab": {
     "base_uri": "https://localhost:8080/"
    },
    "executionInfo": {
     "elapsed": 1470196,
     "status": "ok",
     "timestamp": 1701692152545,
     "user": {
      "displayName": "TruProjects yolo",
      "userId": "18414174829652366032"
     },
     "user_tz": -330
    },
    "id": "a7VcAOnj_ZCn",
    "outputId": "423ad27c-eb62-480b-98b5-f7c223742634"
   },
   "outputs": [
    {
     "name": "stderr",
     "output_type": "stream",
     "text": [
      "python: can't open file 'C:\\\\Users\\\\Priyanka Princella\\\\Desktop\\\\code_folder\\\\tools\\\\train.py': [Errno 2] No such file or directory\n"
     ]
    }
   ],
   "source": [
    "!python tools/train.py --batch 32 --epochs 30 --conf configs/yolov6s_finetune.py --data /content/drive/MyDrive/DL-Monkeypoxdetection/dataset/yolov6/data.yaml --fuse_ab --device 0"
   ]
  },
  {
   "cell_type": "code",
   "execution_count": 16,
   "metadata": {
    "executionInfo": {
     "elapsed": 2,
     "status": "ok",
     "timestamp": 1702021517017,
     "user": {
      "displayName": "TruProjects yolo",
      "userId": "18414174829652366032"
     },
     "user_tz": -330
    },
    "id": "ARNGTbmPSSxR"
   },
   "outputs": [],
   "source": [
    "p1 = 95.0\n",
    "r1 = 95.0\n",
    "mAP501 =  86.9"
   ]
  },
  {
   "cell_type": "markdown",
   "metadata": {
    "id": "irV9KbyCWr-w"
   },
   "source": [
    "**YoloV7**"
   ]
  },
  {
   "cell_type": "code",
   "execution_count": 17,
   "metadata": {
    "colab": {
     "base_uri": "https://localhost:8080/"
    },
    "executionInfo": {
     "elapsed": 440,
     "status": "ok",
     "timestamp": 1701692272300,
     "user": {
      "displayName": "TruProjects yolo",
      "userId": "18414174829652366032"
     },
     "user_tz": -330
    },
    "id": "6vtxdHMRvmrB",
    "outputId": "74c4bc6f-1185-4a20-bbda-03a2a476de03"
   },
   "outputs": [
    {
     "name": "stdout",
     "output_type": "stream",
     "text": [
      "C:\\Users\\Priyanka Princella\\Desktop\n"
     ]
    }
   ],
   "source": [
    "%cd .."
   ]
  },
  {
   "cell_type": "code",
   "execution_count": 18,
   "metadata": {
    "colab": {
     "base_uri": "https://localhost:8080/"
    },
    "executionInfo": {
     "elapsed": 6367,
     "status": "ok",
     "timestamp": 1701692279181,
     "user": {
      "displayName": "TruProjects yolo",
      "userId": "18414174829652366032"
     },
     "user_tz": -330
    },
    "id": "ML43bSujWtCf",
    "outputId": "236d1da1-dca0-49f0-ed5e-03f1d2e94f59"
   },
   "outputs": [
    {
     "name": "stderr",
     "output_type": "stream",
     "text": [
      "Cloning into 'yolov7'...\n"
     ]
    }
   ],
   "source": [
    "!git clone https://github.com/WongKinYiu/yolov7.git"
   ]
  },
  {
   "cell_type": "code",
   "execution_count": 20,
   "metadata": {
    "colab": {
     "base_uri": "https://localhost:8080/"
    },
    "executionInfo": {
     "elapsed": 4,
     "status": "ok",
     "timestamp": 1701692279181,
     "user": {
      "displayName": "TruProjects yolo",
      "userId": "18414174829652366032"
     },
     "user_tz": -330
    },
    "id": "PUVpj4AOXHVI",
    "outputId": "e452c5bb-1352-40bc-eb18-fb4fb7137b9a"
   },
   "outputs": [
    {
     "name": "stdout",
     "output_type": "stream",
     "text": [
      "[WinError 3] The system cannot find the path specified: '/content/yolov7/'\n",
      "C:\\Users\\Priyanka Princella\\Desktop\n"
     ]
    }
   ],
   "source": [
    "%cd /content/yolov7/"
   ]
  },
  {
   "cell_type": "code",
   "execution_count": 21,
   "metadata": {
    "colab": {
     "base_uri": "https://localhost:8080/",
     "height": 1000
    },
    "executionInfo": {
     "elapsed": 12749,
     "status": "ok",
     "timestamp": 1701692291928,
     "user": {
      "displayName": "TruProjects yolo",
      "userId": "18414174829652366032"
     },
     "user_tz": -330
    },
    "id": "Aec1NQAuXKP4",
    "outputId": "177c3a8e-8c49-40bb-c23b-958906836968"
   },
   "outputs": [
    {
     "name": "stderr",
     "output_type": "stream",
     "text": [
      "ERROR: Could not open requirements file: [Errno 2] No such file or directory: 'requirements.txt'\n"
     ]
    }
   ],
   "source": [
    "!pip install -r requirements.txt"
   ]
  },
  {
   "cell_type": "code",
   "execution_count": 22,
   "metadata": {
    "colab": {
     "base_uri": "https://localhost:8080/"
    },
    "executionInfo": {
     "elapsed": 2688852,
     "status": "ok",
     "timestamp": 1701695094878,
     "user": {
      "displayName": "TruProjects yolo",
      "userId": "18414174829652366032"
     },
     "user_tz": -330
    },
    "id": "F8PQpdZ5XdKA",
    "outputId": "3275bc16-e374-4913-e048-a1fbff904f6e"
   },
   "outputs": [
    {
     "name": "stderr",
     "output_type": "stream",
     "text": [
      "python: can't open file 'train.py': [Errno 2] No such file or directory\n"
     ]
    }
   ],
   "source": [
    "!python train.py  --weights yolov7.pt --epochs 30 --data \"/content/drive/MyDrive/DL-Monkeypoxdetection/dataset/yolov7/data.yaml\" --workers 4 --batch-size 4 --img 416 --cfg cfg/training/yolov7.yaml --name yolov7 --hyp data/hyp.scratch.p5.yaml"
   ]
  },
  {
   "cell_type": "code",
   "execution_count": 23,
   "metadata": {
    "executionInfo": {
     "elapsed": 567,
     "status": "ok",
     "timestamp": 1702021529124,
     "user": {
      "displayName": "TruProjects yolo",
      "userId": "18414174829652366032"
     },
     "user_tz": -330
    },
    "id": "YDxps_yggZVj"
   },
   "outputs": [],
   "source": [
    "\n",
    "p2 =   44.5\n",
    "r2 = 79.6\n",
    "mAP502 = 51.6"
   ]
  },
  {
   "cell_type": "markdown",
   "metadata": {
    "id": "Z1Gfl9Y8gnMw"
   },
   "source": [
    "**YoloV8**"
   ]
  },
  {
   "cell_type": "code",
   "execution_count": 24,
   "metadata": {
    "colab": {
     "base_uri": "https://localhost:8080/"
    },
    "executionInfo": {
     "elapsed": 361,
     "status": "ok",
     "timestamp": 1701687569189,
     "user": {
      "displayName": "TruProjects yolo",
      "userId": "18414174829652366032"
     },
     "user_tz": -330
    },
    "id": "fRDowvkC7srL",
    "outputId": "034a7938-eaad-482b-ac2a-73dc4e8b0f4d"
   },
   "outputs": [
    {
     "name": "stdout",
     "output_type": "stream",
     "text": [
      "C:\\Users\\Priyanka Princella\n"
     ]
    }
   ],
   "source": [
    "%cd .."
   ]
  },
  {
   "cell_type": "code",
   "execution_count": 25,
   "metadata": {
    "colab": {
     "base_uri": "https://localhost:8080/"
    },
    "executionInfo": {
     "elapsed": 28780,
     "status": "ok",
     "timestamp": 1702021627660,
     "user": {
      "displayName": "TruProjects yolo",
      "userId": "18414174829652366032"
     },
     "user_tz": -330
    },
    "id": "LAqoyiS2YYjm",
    "outputId": "835e4072-7d9a-40a9-89ea-6a0fa62a7874"
   },
   "outputs": [
    {
     "name": "stderr",
     "output_type": "stream",
     "text": [
      "unzip:  cannot find or open /content/drive/MyDrive/DL-Monkeypoxdetection/data_yolov8.zip, /content/drive/MyDrive/DL-Monkeypoxdetection/data_yolov8.zip.zip or /content/drive/MyDrive/DL-Monkeypoxdetection/data_yolov8.zip.ZIP.\n"
     ]
    }
   ],
   "source": [
    "!unzip \"/content/drive/MyDrive/DL-Monkeypoxdetection/data_yolov8.zip\" -d \"/content/drive/MyDrive/DL-Monkeypoxdetection/yolov8_data\""
   ]
  },
  {
   "cell_type": "code",
   "execution_count": 26,
   "metadata": {
    "colab": {
     "base_uri": "https://localhost:8080/"
    },
    "executionInfo": {
     "elapsed": 442,
     "status": "ok",
     "timestamp": 1702021632560,
     "user": {
      "displayName": "TruProjects yolo",
      "userId": "18414174829652366032"
     },
     "user_tz": -330
    },
    "id": "K2hA5tJvggrR",
    "outputId": "09000234-89ac-4b7b-e846-bb986ff81b8f"
   },
   "outputs": [
    {
     "name": "stdout",
     "output_type": "stream",
     "text": [
      "[WinError 2] The system cannot find the file specified: '/content/'\n",
      "C:\\Users\\Priyanka Princella\n"
     ]
    }
   ],
   "source": [
    "%cd /content/"
   ]
  },
  {
   "cell_type": "code",
   "execution_count": 27,
   "metadata": {
    "colab": {
     "base_uri": "https://localhost:8080/"
    },
    "executionInfo": {
     "elapsed": 7412,
     "status": "ok",
     "timestamp": 1702021640511,
     "user": {
      "displayName": "TruProjects yolo",
      "userId": "18414174829652366032"
     },
     "user_tz": -330
    },
    "id": "PeRxt-i1guya",
    "outputId": "7113b2b6-e635-45ca-9378-251f28c2d37b"
   },
   "outputs": [
    {
     "name": "stdout",
     "output_type": "stream",
     "text": [
      "Requirement already satisfied: ultralytics in c:\\users\\priyanka princella\\appdata\\roaming\\python\\python38\\site-packages (8.3.78)\n",
      "Requirement already satisfied: pandas>=1.1.4 in c:\\programdata\\anaconda3\\lib\\site-packages (from ultralytics) (1.2.4)\n",
      "Requirement already satisfied: psutil in c:\\programdata\\anaconda3\\lib\\site-packages (from ultralytics) (5.8.0)\n",
      "Requirement already satisfied: ultralytics-thop>=2.0.0 in c:\\users\\priyanka princella\\appdata\\roaming\\python\\python38\\site-packages (from ultralytics) (2.0.14)\n",
      "Requirement already satisfied: torchvision>=0.9.0 in c:\\users\\priyanka princella\\appdata\\roaming\\python\\python38\\site-packages (from ultralytics) (0.14.1)\n",
      "Requirement already satisfied: tqdm>=4.64.0 in c:\\users\\priyanka princella\\appdata\\roaming\\python\\python38\\site-packages (from ultralytics) (4.67.1)\n",
      "Requirement already satisfied: seaborn>=0.11.0 in c:\\programdata\\anaconda3\\lib\\site-packages (from ultralytics) (0.11.1)\n",
      "Requirement already satisfied: numpy<=2.1.1,>=1.23.0 in c:\\users\\priyanka princella\\appdata\\roaming\\python\\python38\\site-packages (from ultralytics) (1.23.5)\n",
      "Requirement already satisfied: py-cpuinfo in c:\\users\\priyanka princella\\appdata\\roaming\\python\\python38\\site-packages (from ultralytics) (9.0.0)\n",
      "Requirement already satisfied: torch!=2.4.0,>=1.8.0 in c:\\users\\priyanka princella\\appdata\\roaming\\python\\python38\\site-packages (from ultralytics) (1.13.1)\n",
      "Requirement already satisfied: scipy>=1.4.1 in c:\\users\\priyanka princella\\appdata\\roaming\\python\\python38\\site-packages (from ultralytics) (1.10.1)\n",
      "Requirement already satisfied: opencv-python>=4.6.0 in c:\\users\\priyanka princella\\appdata\\roaming\\python\\python38\\site-packages (from ultralytics) (4.11.0.86)\n",
      "Requirement already satisfied: requests>=2.23.0 in c:\\programdata\\anaconda3\\lib\\site-packages (from ultralytics) (2.25.1)\n",
      "Requirement already satisfied: matplotlib>=3.3.0 in c:\\programdata\\anaconda3\\lib\\site-packages (from ultralytics) (3.3.4)\n",
      "Requirement already satisfied: pillow>=7.1.2 in c:\\programdata\\anaconda3\\lib\\site-packages (from ultralytics) (8.2.0)\n",
      "Requirement already satisfied: pyyaml>=5.3.1 in c:\\programdata\\anaconda3\\lib\\site-packages (from ultralytics) (5.4.1)\n",
      "Requirement already satisfied: python-dateutil>=2.1 in c:\\programdata\\anaconda3\\lib\\site-packages (from matplotlib>=3.3.0->ultralytics) (2.8.1)\n",
      "Requirement already satisfied: cycler>=0.10 in c:\\programdata\\anaconda3\\lib\\site-packages (from matplotlib>=3.3.0->ultralytics) (0.10.0)\n",
      "Requirement already satisfied: kiwisolver>=1.0.1 in c:\\programdata\\anaconda3\\lib\\site-packages (from matplotlib>=3.3.0->ultralytics) (1.3.1)\n",
      "Requirement already satisfied: pyparsing!=2.0.4,!=2.1.2,!=2.1.6,>=2.0.3 in c:\\programdata\\anaconda3\\lib\\site-packages (from matplotlib>=3.3.0->ultralytics) (2.4.7)\n",
      "Requirement already satisfied: six in c:\\programdata\\anaconda3\\lib\\site-packages (from cycler>=0.10->matplotlib>=3.3.0->ultralytics) (1.15.0)\n",
      "Requirement already satisfied: pytz>=2017.3 in c:\\programdata\\anaconda3\\lib\\site-packages (from pandas>=1.1.4->ultralytics) (2021.1)\n",
      "Requirement already satisfied: certifi>=2017.4.17 in c:\\programdata\\anaconda3\\lib\\site-packages (from requests>=2.23.0->ultralytics) (2020.12.5)\n",
      "Requirement already satisfied: idna<3,>=2.5 in c:\\programdata\\anaconda3\\lib\\site-packages (from requests>=2.23.0->ultralytics) (2.10)\n",
      "Requirement already satisfied: chardet<5,>=3.0.2 in c:\\programdata\\anaconda3\\lib\\site-packages (from requests>=2.23.0->ultralytics) (4.0.0)\n",
      "Requirement already satisfied: urllib3<1.27,>=1.21.1 in c:\\programdata\\anaconda3\\lib\\site-packages (from requests>=2.23.0->ultralytics) (1.26.4)\n",
      "Requirement already satisfied: typing-extensions in c:\\programdata\\anaconda3\\lib\\site-packages (from torch!=2.4.0,>=1.8.0->ultralytics) (3.7.4.3)\n",
      "Requirement already satisfied: colorama in c:\\programdata\\anaconda3\\lib\\site-packages (from tqdm>=4.64.0->ultralytics) (0.4.4)\n"
     ]
    }
   ],
   "source": [
    "!pip install ultralytics"
   ]
  },
  {
   "cell_type": "code",
   "execution_count": 28,
   "metadata": {
    "colab": {
     "base_uri": "https://localhost:8080/"
    },
    "executionInfo": {
     "elapsed": 900445,
     "status": "ok",
     "timestamp": 1702022632887,
     "user": {
      "displayName": "TruProjects yolo",
      "userId": "18414174829652366032"
     },
     "user_tz": -330
    },
    "id": "K1eHgoIGhzC8",
    "outputId": "7cd2b77e-bf1c-421c-a9a0-3e3d38c05dfb"
   },
   "outputs": [
    {
     "name": "stdout",
     "output_type": "stream",
     "text": [
      "Downloading https://github.com/ultralytics/assets/releases/download/v8.3.0/yolov8n.pt to 'yolov8n.pt'...\n"
     ]
    },
    {
     "data": {
      "application/vnd.jupyter.widget-view+json": {
       "model_id": "817fc128273847c8a0a860368524cf5c",
       "version_major": 2,
       "version_minor": 0
      },
      "text/plain": [
       "  0%|          | 0.00/6.25M [00:00<?, ?B/s]"
      ]
     },
     "metadata": {},
     "output_type": "display_data"
    },
    {
     "name": "stdout",
     "output_type": "stream",
     "text": [
      "New https://pypi.org/project/ultralytics/8.3.159 available  Update with 'pip install -U ultralytics'\n",
      "Ultralytics 8.3.78  Python-3.8.8 torch-1.13.1+cpu CPU (11th Gen Intel Core(TM) i3-1125G4 2.00GHz)\n",
      "WARNING  Upgrade to torch>=2.0.0 for deterministic training.\n",
      "\u001b[34m\u001b[1mengine\\trainer: \u001b[0mtask=detect, mode=train, model=yolov8n.pt, data=/content/drive/MyDrive/DL-Monkeypoxdetection/yolov8_data/data_yolov8/data.yaml, epochs=30, time=None, patience=100, batch=16, imgsz=416, save=True, save_period=-1, cache=False, device=None, workers=8, project=None, name=train, exist_ok=False, pretrained=True, optimizer=auto, verbose=True, seed=0, deterministic=True, single_cls=False, rect=False, cos_lr=False, close_mosaic=10, resume=False, amp=True, fraction=1.0, profile=False, freeze=None, multi_scale=False, overlap_mask=True, mask_ratio=4, dropout=0.0, val=True, split=val, save_json=False, save_hybrid=False, conf=None, iou=0.7, max_det=300, half=False, dnn=False, plots=True, source=None, vid_stride=1, stream_buffer=False, visualize=False, augment=False, agnostic_nms=False, classes=None, retina_masks=False, embed=None, show=False, save_frames=False, save_txt=False, save_conf=False, save_crop=False, show_labels=True, show_conf=True, show_boxes=True, line_width=None, format=torchscript, keras=False, optimize=False, int8=False, dynamic=False, simplify=True, opset=None, workspace=None, nms=False, lr0=0.01, lrf=0.01, momentum=0.937, weight_decay=0.0005, warmup_epochs=3.0, warmup_momentum=0.8, warmup_bias_lr=0.1, box=7.5, cls=0.5, dfl=1.5, pose=12.0, kobj=1.0, nbs=64, hsv_h=0.015, hsv_s=0.7, hsv_v=0.4, degrees=0.0, translate=0.1, scale=0.5, shear=0.0, perspective=0.0, flipud=0.0, fliplr=0.5, bgr=0.0, mosaic=1.0, mixup=0.0, copy_paste=0.0, copy_paste_mode=flip, auto_augment=randaugment, erasing=0.4, crop_fraction=1.0, cfg=None, tracker=botsort.yaml, save_dir=runs\\detect\\train\n"
     ]
    },
    {
     "ename": "RuntimeError",
     "evalue": "Dataset '/content/drive/MyDrive/DL-Monkeypoxdetection/yolov8_data/data_yolov8/data.yaml' error  '/content/drive/MyDrive/DL-Monkeypoxdetection/yolov8_data/data_yolov8/data.yaml' does not exist",
     "output_type": "error",
     "traceback": [
      "\u001b[1;31m---------------------------------------------------------------------------\u001b[0m",
      "\u001b[1;31mFileNotFoundError\u001b[0m                         Traceback (most recent call last)",
      "\u001b[1;32m~\\AppData\\Roaming\\Python\\Python38\\site-packages\\ultralytics\\engine\\trainer.py\u001b[0m in \u001b[0;36mget_dataset\u001b[1;34m(self)\u001b[0m\n\u001b[0;32m    563\u001b[0m             }:\n\u001b[1;32m--> 564\u001b[1;33m                 \u001b[0mdata\u001b[0m \u001b[1;33m=\u001b[0m \u001b[0mcheck_det_dataset\u001b[0m\u001b[1;33m(\u001b[0m\u001b[0mself\u001b[0m\u001b[1;33m.\u001b[0m\u001b[0margs\u001b[0m\u001b[1;33m.\u001b[0m\u001b[0mdata\u001b[0m\u001b[1;33m)\u001b[0m\u001b[1;33m\u001b[0m\u001b[1;33m\u001b[0m\u001b[0m\n\u001b[0m\u001b[0;32m    565\u001b[0m                 \u001b[1;32mif\u001b[0m \u001b[1;34m\"yaml_file\"\u001b[0m \u001b[1;32min\u001b[0m \u001b[0mdata\u001b[0m\u001b[1;33m:\u001b[0m\u001b[1;33m\u001b[0m\u001b[1;33m\u001b[0m\u001b[0m\n",
      "\u001b[1;32m~\\AppData\\Roaming\\Python\\Python38\\site-packages\\ultralytics\\data\\utils.py\u001b[0m in \u001b[0;36mcheck_det_dataset\u001b[1;34m(dataset, autodownload)\u001b[0m\n\u001b[0;32m    315\u001b[0m     \"\"\"\n\u001b[1;32m--> 316\u001b[1;33m     \u001b[0mfile\u001b[0m \u001b[1;33m=\u001b[0m \u001b[0mcheck_file\u001b[0m\u001b[1;33m(\u001b[0m\u001b[0mdataset\u001b[0m\u001b[1;33m)\u001b[0m\u001b[1;33m\u001b[0m\u001b[1;33m\u001b[0m\u001b[0m\n\u001b[0m\u001b[0;32m    317\u001b[0m \u001b[1;33m\u001b[0m\u001b[0m\n",
      "\u001b[1;32m~\\AppData\\Roaming\\Python\\Python38\\site-packages\\ultralytics\\utils\\checks.py\u001b[0m in \u001b[0;36mcheck_file\u001b[1;34m(file, suffix, download, download_dir, hard)\u001b[0m\n\u001b[0;32m    521\u001b[0m         \u001b[1;32mif\u001b[0m \u001b[1;32mnot\u001b[0m \u001b[0mfiles\u001b[0m \u001b[1;32mand\u001b[0m \u001b[0mhard\u001b[0m\u001b[1;33m:\u001b[0m\u001b[1;33m\u001b[0m\u001b[1;33m\u001b[0m\u001b[0m\n\u001b[1;32m--> 522\u001b[1;33m             \u001b[1;32mraise\u001b[0m \u001b[0mFileNotFoundError\u001b[0m\u001b[1;33m(\u001b[0m\u001b[1;34mf\"'{file}' does not exist\"\u001b[0m\u001b[1;33m)\u001b[0m\u001b[1;33m\u001b[0m\u001b[1;33m\u001b[0m\u001b[0m\n\u001b[0m\u001b[0;32m    523\u001b[0m         \u001b[1;32melif\u001b[0m \u001b[0mlen\u001b[0m\u001b[1;33m(\u001b[0m\u001b[0mfiles\u001b[0m\u001b[1;33m)\u001b[0m \u001b[1;33m>\u001b[0m \u001b[1;36m1\u001b[0m \u001b[1;32mand\u001b[0m \u001b[0mhard\u001b[0m\u001b[1;33m:\u001b[0m\u001b[1;33m\u001b[0m\u001b[1;33m\u001b[0m\u001b[0m\n",
      "\u001b[1;31mFileNotFoundError\u001b[0m: '/content/drive/MyDrive/DL-Monkeypoxdetection/yolov8_data/data_yolov8/data.yaml' does not exist",
      "\nThe above exception was the direct cause of the following exception:\n",
      "\u001b[1;31mRuntimeError\u001b[0m                              Traceback (most recent call last)",
      "\u001b[1;32m<ipython-input-28-1a47124aa323>\u001b[0m in \u001b[0;36m<module>\u001b[1;34m\u001b[0m\n\u001b[0;32m      2\u001b[0m \u001b[0mmodel\u001b[0m \u001b[1;33m=\u001b[0m \u001b[0mYOLO\u001b[0m\u001b[1;33m(\u001b[0m\u001b[1;34m\"yolov8n.pt\"\u001b[0m\u001b[1;33m)\u001b[0m\u001b[1;33m\u001b[0m\u001b[1;33m\u001b[0m\u001b[0m\n\u001b[0;32m      3\u001b[0m \u001b[1;33m\u001b[0m\u001b[0m\n\u001b[1;32m----> 4\u001b[1;33m \u001b[0mresults\u001b[0m \u001b[1;33m=\u001b[0m \u001b[0mmodel\u001b[0m\u001b[1;33m.\u001b[0m\u001b[0mtrain\u001b[0m\u001b[1;33m(\u001b[0m\u001b[0mdata\u001b[0m\u001b[1;33m=\u001b[0m\u001b[1;34m\"/content/drive/MyDrive/DL-Monkeypoxdetection/yolov8_data/data_yolov8/data.yaml\"\u001b[0m\u001b[1;33m,\u001b[0m \u001b[0mepochs\u001b[0m\u001b[1;33m=\u001b[0m\u001b[1;36m30\u001b[0m\u001b[1;33m,\u001b[0m \u001b[0mimgsz\u001b[0m\u001b[1;33m=\u001b[0m\u001b[1;36m416\u001b[0m\u001b[1;33m)\u001b[0m\u001b[1;33m\u001b[0m\u001b[1;33m\u001b[0m\u001b[0m\n\u001b[0m",
      "\u001b[1;32m~\\AppData\\Roaming\\Python\\Python38\\site-packages\\ultralytics\\engine\\model.py\u001b[0m in \u001b[0;36mtrain\u001b[1;34m(self, trainer, **kwargs)\u001b[0m\n\u001b[0;32m    802\u001b[0m             \u001b[0margs\u001b[0m\u001b[1;33m[\u001b[0m\u001b[1;34m\"resume\"\u001b[0m\u001b[1;33m]\u001b[0m \u001b[1;33m=\u001b[0m \u001b[0mself\u001b[0m\u001b[1;33m.\u001b[0m\u001b[0mckpt_path\u001b[0m\u001b[1;33m\u001b[0m\u001b[1;33m\u001b[0m\u001b[0m\n\u001b[0;32m    803\u001b[0m \u001b[1;33m\u001b[0m\u001b[0m\n\u001b[1;32m--> 804\u001b[1;33m         \u001b[0mself\u001b[0m\u001b[1;33m.\u001b[0m\u001b[0mtrainer\u001b[0m \u001b[1;33m=\u001b[0m \u001b[1;33m(\u001b[0m\u001b[0mtrainer\u001b[0m \u001b[1;32mor\u001b[0m \u001b[0mself\u001b[0m\u001b[1;33m.\u001b[0m\u001b[0m_smart_load\u001b[0m\u001b[1;33m(\u001b[0m\u001b[1;34m\"trainer\"\u001b[0m\u001b[1;33m)\u001b[0m\u001b[1;33m)\u001b[0m\u001b[1;33m(\u001b[0m\u001b[0moverrides\u001b[0m\u001b[1;33m=\u001b[0m\u001b[0margs\u001b[0m\u001b[1;33m,\u001b[0m \u001b[0m_callbacks\u001b[0m\u001b[1;33m=\u001b[0m\u001b[0mself\u001b[0m\u001b[1;33m.\u001b[0m\u001b[0mcallbacks\u001b[0m\u001b[1;33m)\u001b[0m\u001b[1;33m\u001b[0m\u001b[1;33m\u001b[0m\u001b[0m\n\u001b[0m\u001b[0;32m    805\u001b[0m         \u001b[1;32mif\u001b[0m \u001b[1;32mnot\u001b[0m \u001b[0margs\u001b[0m\u001b[1;33m.\u001b[0m\u001b[0mget\u001b[0m\u001b[1;33m(\u001b[0m\u001b[1;34m\"resume\"\u001b[0m\u001b[1;33m)\u001b[0m\u001b[1;33m:\u001b[0m  \u001b[1;31m# manually set model only if not resuming\u001b[0m\u001b[1;33m\u001b[0m\u001b[1;33m\u001b[0m\u001b[0m\n\u001b[0;32m    806\u001b[0m             \u001b[0mself\u001b[0m\u001b[1;33m.\u001b[0m\u001b[0mtrainer\u001b[0m\u001b[1;33m.\u001b[0m\u001b[0mmodel\u001b[0m \u001b[1;33m=\u001b[0m \u001b[0mself\u001b[0m\u001b[1;33m.\u001b[0m\u001b[0mtrainer\u001b[0m\u001b[1;33m.\u001b[0m\u001b[0mget_model\u001b[0m\u001b[1;33m(\u001b[0m\u001b[0mweights\u001b[0m\u001b[1;33m=\u001b[0m\u001b[0mself\u001b[0m\u001b[1;33m.\u001b[0m\u001b[0mmodel\u001b[0m \u001b[1;32mif\u001b[0m \u001b[0mself\u001b[0m\u001b[1;33m.\u001b[0m\u001b[0mckpt\u001b[0m \u001b[1;32melse\u001b[0m \u001b[1;32mNone\u001b[0m\u001b[1;33m,\u001b[0m \u001b[0mcfg\u001b[0m\u001b[1;33m=\u001b[0m\u001b[0mself\u001b[0m\u001b[1;33m.\u001b[0m\u001b[0mmodel\u001b[0m\u001b[1;33m.\u001b[0m\u001b[0myaml\u001b[0m\u001b[1;33m)\u001b[0m\u001b[1;33m\u001b[0m\u001b[1;33m\u001b[0m\u001b[0m\n",
      "\u001b[1;32m~\\AppData\\Roaming\\Python\\Python38\\site-packages\\ultralytics\\engine\\trainer.py\u001b[0m in \u001b[0;36m__init__\u001b[1;34m(self, cfg, overrides, _callbacks)\u001b[0m\n\u001b[0;32m    132\u001b[0m         \u001b[0mself\u001b[0m\u001b[1;33m.\u001b[0m\u001b[0mmodel\u001b[0m \u001b[1;33m=\u001b[0m \u001b[0mcheck_model_file_from_stem\u001b[0m\u001b[1;33m(\u001b[0m\u001b[0mself\u001b[0m\u001b[1;33m.\u001b[0m\u001b[0margs\u001b[0m\u001b[1;33m.\u001b[0m\u001b[0mmodel\u001b[0m\u001b[1;33m)\u001b[0m  \u001b[1;31m# add suffix, i.e. yolo11n -> yolo11n.pt\u001b[0m\u001b[1;33m\u001b[0m\u001b[1;33m\u001b[0m\u001b[0m\n\u001b[0;32m    133\u001b[0m         \u001b[1;32mwith\u001b[0m \u001b[0mtorch_distributed_zero_first\u001b[0m\u001b[1;33m(\u001b[0m\u001b[0mLOCAL_RANK\u001b[0m\u001b[1;33m)\u001b[0m\u001b[1;33m:\u001b[0m  \u001b[1;31m# avoid auto-downloading dataset multiple times\u001b[0m\u001b[1;33m\u001b[0m\u001b[1;33m\u001b[0m\u001b[0m\n\u001b[1;32m--> 134\u001b[1;33m             \u001b[0mself\u001b[0m\u001b[1;33m.\u001b[0m\u001b[0mtrainset\u001b[0m\u001b[1;33m,\u001b[0m \u001b[0mself\u001b[0m\u001b[1;33m.\u001b[0m\u001b[0mtestset\u001b[0m \u001b[1;33m=\u001b[0m \u001b[0mself\u001b[0m\u001b[1;33m.\u001b[0m\u001b[0mget_dataset\u001b[0m\u001b[1;33m(\u001b[0m\u001b[1;33m)\u001b[0m\u001b[1;33m\u001b[0m\u001b[1;33m\u001b[0m\u001b[0m\n\u001b[0m\u001b[0;32m    135\u001b[0m         \u001b[0mself\u001b[0m\u001b[1;33m.\u001b[0m\u001b[0mema\u001b[0m \u001b[1;33m=\u001b[0m \u001b[1;32mNone\u001b[0m\u001b[1;33m\u001b[0m\u001b[1;33m\u001b[0m\u001b[0m\n\u001b[0;32m    136\u001b[0m \u001b[1;33m\u001b[0m\u001b[0m\n",
      "\u001b[1;32m~\\AppData\\Roaming\\Python\\Python38\\site-packages\\ultralytics\\engine\\trainer.py\u001b[0m in \u001b[0;36mget_dataset\u001b[1;34m(self)\u001b[0m\n\u001b[0;32m    566\u001b[0m                     \u001b[0mself\u001b[0m\u001b[1;33m.\u001b[0m\u001b[0margs\u001b[0m\u001b[1;33m.\u001b[0m\u001b[0mdata\u001b[0m \u001b[1;33m=\u001b[0m \u001b[0mdata\u001b[0m\u001b[1;33m[\u001b[0m\u001b[1;34m\"yaml_file\"\u001b[0m\u001b[1;33m]\u001b[0m  \u001b[1;31m# for validating 'yolo train data=url.zip' usage\u001b[0m\u001b[1;33m\u001b[0m\u001b[1;33m\u001b[0m\u001b[0m\n\u001b[0;32m    567\u001b[0m         \u001b[1;32mexcept\u001b[0m \u001b[0mException\u001b[0m \u001b[1;32mas\u001b[0m \u001b[0me\u001b[0m\u001b[1;33m:\u001b[0m\u001b[1;33m\u001b[0m\u001b[1;33m\u001b[0m\u001b[0m\n\u001b[1;32m--> 568\u001b[1;33m             \u001b[1;32mraise\u001b[0m \u001b[0mRuntimeError\u001b[0m\u001b[1;33m(\u001b[0m\u001b[0memojis\u001b[0m\u001b[1;33m(\u001b[0m\u001b[1;34mf\"Dataset '{clean_url(self.args.data)}' error ❌ {e}\"\u001b[0m\u001b[1;33m)\u001b[0m\u001b[1;33m)\u001b[0m \u001b[1;32mfrom\u001b[0m \u001b[0me\u001b[0m\u001b[1;33m\u001b[0m\u001b[1;33m\u001b[0m\u001b[0m\n\u001b[0m\u001b[0;32m    569\u001b[0m         \u001b[0mself\u001b[0m\u001b[1;33m.\u001b[0m\u001b[0mdata\u001b[0m \u001b[1;33m=\u001b[0m \u001b[0mdata\u001b[0m\u001b[1;33m\u001b[0m\u001b[1;33m\u001b[0m\u001b[0m\n\u001b[0;32m    570\u001b[0m         \u001b[1;32mreturn\u001b[0m \u001b[0mdata\u001b[0m\u001b[1;33m[\u001b[0m\u001b[1;34m\"train\"\u001b[0m\u001b[1;33m]\u001b[0m\u001b[1;33m,\u001b[0m \u001b[0mdata\u001b[0m\u001b[1;33m.\u001b[0m\u001b[0mget\u001b[0m\u001b[1;33m(\u001b[0m\u001b[1;34m\"val\"\u001b[0m\u001b[1;33m)\u001b[0m \u001b[1;32mor\u001b[0m \u001b[0mdata\u001b[0m\u001b[1;33m.\u001b[0m\u001b[0mget\u001b[0m\u001b[1;33m(\u001b[0m\u001b[1;34m\"test\"\u001b[0m\u001b[1;33m)\u001b[0m\u001b[1;33m\u001b[0m\u001b[1;33m\u001b[0m\u001b[0m\n",
      "\u001b[1;31mRuntimeError\u001b[0m: Dataset '/content/drive/MyDrive/DL-Monkeypoxdetection/yolov8_data/data_yolov8/data.yaml' error  '/content/drive/MyDrive/DL-Monkeypoxdetection/yolov8_data/data_yolov8/data.yaml' does not exist"
     ]
    }
   ],
   "source": [
    "from ultralytics import YOLO\n",
    "model = YOLO(\"yolov8n.pt\")\n",
    "\n",
    "results = model.train(data=\"/content/drive/MyDrive/DL-Monkeypoxdetection/yolov8_data/data_yolov8/data.yaml\", epochs=30, imgsz=416)"
   ]
  },
  {
   "cell_type": "code",
   "execution_count": 29,
   "metadata": {
    "executionInfo": {
     "elapsed": 607,
     "status": "ok",
     "timestamp": 1702022665064,
     "user": {
      "displayName": "TruProjects yolo",
      "userId": "18414174829652366032"
     },
     "user_tz": -330
    },
    "id": "P8OY2qy6nCns"
   },
   "outputs": [],
   "source": [
    "p3 = 91.8\n",
    "r3 = 93.2\n",
    "mAP503 =  97.7"
   ]
  },
  {
   "cell_type": "markdown",
   "metadata": {
    "id": "KWUKQmwMnSmz"
   },
   "source": [
    "**Comparison**"
   ]
  },
  {
   "cell_type": "code",
   "execution_count": 36,
   "metadata": {
    "executionInfo": {
     "elapsed": 707,
     "status": "ok",
     "timestamp": 1702022668669,
     "user": {
      "displayName": "TruProjects yolo",
      "userId": "18414174829652366032"
     },
     "user_tz": -330
    },
    "id": "agbJ7mJUnSJW"
   },
   "outputs": [],
   "source": [
    "score = [mAP50,mAP501,mAP502,mAP503]\n",
    "score1 = [p,p1,p2,p3]\n",
    "score2 = [r,r1,r2,r3]"
   ]
  },
  {
   "cell_type": "code",
   "execution_count": 42,
   "metadata": {
    "executionInfo": {
     "elapsed": 6,
     "status": "ok",
     "timestamp": 1702022668669,
     "user": {
      "displayName": "TruProjects yolo",
      "userId": "18414174829652366032"
     },
     "user_tz": -330
    },
    "id": "N1b0LAeSnjfk"
   },
   "outputs": [],
   "source": [
    "import numpy as np\n",
    "\n",
    "classifier = ('YoloV5','YoloV6','YoloV7','YoloV8')\n",
    "y_pos = np.arange(len(classifier))"
   ]
  },
  {
   "cell_type": "code",
   "execution_count": 50,
   "metadata": {
    "colab": {
     "base_uri": "https://localhost:8080/",
     "height": 472
    },
    "executionInfo": {
     "elapsed": 7,
     "status": "ok",
     "timestamp": 1702022668670,
     "user": {
      "displayName": "TruProjects yolo",
      "userId": "18414174829652366032"
     },
     "user_tz": -330
    },
    "id": "b4i3ugpSnlDM",
    "outputId": "0a729d0f-14ae-478e-d071-2a1ca19ca0cd"
   },
   "outputs": [
    {
     "data": {
      "image/png": "[encoded data removed]",
      "text/plain": [
       "<Figure size 432x288 with 1 Axes>"
      ]
     },
     "metadata": {
      "needs_background": "light"
     },
     "output_type": "display_data"
    }
   ],
   "source": [
    "import matplotlib.pyplot as plt2\n",
    "plt2.barh(y_pos, score, align='center', alpha=0.5,color='purple')\n",
    "plt2.yticks(y_pos, classifier)\n",
    "plt2.xlabel('mAP50')\n",
    "plt2.title('Classification Performance')\n",
    "plt2.show()"
   ]
  },
  {
   "cell_type": "code",
   "execution_count": 14,
   "metadata": {
    "colab": {
     "base_uri": "https://localhost:8080/",
     "height": 472
    },
    "executionInfo": {
     "elapsed": 939,
     "status": "ok",
     "timestamp": 1702022669604,
     "user": {
      "displayName": "TruProjects yolo",
      "userId": "18414174829652366032"
     },
     "user_tz": -330
    },
    "id": "SopK3NKRnpP6",
    "outputId": "9601379c-83bb-40b7-8727-3789283a1eb0"
   },
   "outputs": [
    {
     "data": {
      "image/png": "[encoded data removed]",
      "text/plain": [
       "<Figure size 640x480 with 1 Axes>"
      ]
     },
     "metadata": {},
     "output_type": "display_data"
    }
   ],
   "source": [
    "import matplotlib.pyplot as plt2\n",
    "plt2.barh(y_pos, score1, align='center', alpha=0.5,color='green')\n",
    "plt2.yticks(y_pos, classifier)\n",
    "plt2.xlabel('Precision Score')\n",
    "plt2.title('Classification Performance')\n",
    "plt2.show()"
   ]
  },
  {
   "cell_type": "code",
   "execution_count": 51,
   "metadata": {
    "colab": {
     "base_uri": "https://localhost:8080/",
     "height": 472
    },
    "executionInfo": {
     "elapsed": 5,
     "status": "ok",
     "timestamp": 1702022669604,
     "user": {
      "displayName": "TruProjects yolo",
      "userId": "18414174829652366032"
     },
     "user_tz": -330
    },
    "id": "0ljVY1nNnwgE",
    "outputId": "1bff200a-e089-4079-de06-0554878a90e6"
   },
   "outputs": [
    {
     "data": {
      "image/png": "[encoded data removed]",
      "text/plain": [
       "<Figure size 432x288 with 1 Axes>"
      ]
     },
     "metadata": {
      "needs_background": "light"
     },
     "output_type": "display_data"
    }
   ],
   "source": [
    "plt2.barh(y_pos, score2, align='center', alpha=0.5,color='orange')\n",
    "plt2.yticks(y_pos, classifier)\n",
    "plt2.xlabel('Recall Score')\n",
    "plt2.title('Classification Performance')\n",
    "plt2.show()"
   ]
  },
  {
   "cell_type": "code",
   "execution_count": null,
   "metadata": {
    "id": "naCuaVBmdN0U"
   },
   "outputs": [],
   "source": []
  }
 ],
 "metadata": {
  "accelerator": "GPU",
  "colab": {
   "gpuType": "V100",
   "provenance": []
  },
  "kernelspec": {
   "display_name": "Python 3 (ipykernel)",
   "language": "python",
   "name": "python3"
  },
  "language_info": {
   "codemirror_mode": {
    "name": "ipython",
    "version": 3
   },
   "file_extension": ".py",
   "mimetype": "text/x-python",
   "name": "python",
   "nbconvert_exporter": "python",
   "pygments_lexer": "ipython3",
   "version": "3.10.9"
  },
  "papermill": {
   "duration": 1956.501745,
   "end_time": "2020-11-25T07:34:03.687920",
   "environment_variables": {},
   "exception": null,
   "input_path": "__notebook__.ipynb",
   "output_path": "__notebook__.ipynb",
   "parameters": {},
   "start_time": "2020-11-25T07:01:27.186175",
   "version": "2.1.0"
  }
 },
 "nbformat": 4,
 "nbformat_minor": 1
}
